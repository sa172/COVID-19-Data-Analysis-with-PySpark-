{
 "cells": [
  {
   "cell_type": "code",
   "execution_count": 3,
   "metadata": {},
   "outputs": [
    {
     "name": "stdout",
     "output_type": "stream",
     "text": [
      "Requirement already satisfied: pandas in c:\\users\\acer\\appdata\\local\\programs\\python\\python312\\lib\\site-packages (2.2.3)\n",
      "Collecting matplotlib\n",
      "  Using cached matplotlib-3.9.2-cp312-cp312-win_amd64.whl.metadata (11 kB)\n",
      "Collecting seaborn\n",
      "  Downloading seaborn-0.13.2-py3-none-any.whl.metadata (5.4 kB)\n",
      "Requirement already satisfied: numpy>=1.26.0 in c:\\users\\acer\\appdata\\local\\programs\\python\\python312\\lib\\site-packages (from pandas) (1.26.4)\n",
      "Requirement already satisfied: python-dateutil>=2.8.2 in c:\\users\\acer\\appdata\\roaming\\python\\python312\\site-packages (from pandas) (2.9.0.post0)\n",
      "Requirement already satisfied: pytz>=2020.1 in c:\\users\\acer\\appdata\\local\\programs\\python\\python312\\lib\\site-packages (from pandas) (2024.2)\n",
      "Requirement already satisfied: tzdata>=2022.7 in c:\\users\\acer\\appdata\\local\\programs\\python\\python312\\lib\\site-packages (from pandas) (2024.2)\n",
      "Collecting contourpy>=1.0.1 (from matplotlib)\n",
      "  Using cached contourpy-1.3.1-cp312-cp312-win_amd64.whl.metadata (5.4 kB)\n",
      "Collecting cycler>=0.10 (from matplotlib)\n",
      "  Using cached cycler-0.12.1-py3-none-any.whl.metadata (3.8 kB)\n",
      "Collecting fonttools>=4.22.0 (from matplotlib)\n",
      "  Using cached fonttools-4.55.0-cp312-cp312-win_amd64.whl.metadata (167 kB)\n",
      "Collecting kiwisolver>=1.3.1 (from matplotlib)\n",
      "  Using cached kiwisolver-1.4.7-cp312-cp312-win_amd64.whl.metadata (6.4 kB)\n",
      "Requirement already satisfied: packaging>=20.0 in c:\\users\\acer\\appdata\\roaming\\python\\python312\\site-packages (from matplotlib) (24.1)\n",
      "Requirement already satisfied: pillow>=8 in c:\\users\\acer\\appdata\\local\\programs\\python\\python312\\lib\\site-packages (from matplotlib) (10.4.0)\n",
      "Requirement already satisfied: pyparsing>=2.3.1 in c:\\users\\acer\\appdata\\local\\programs\\python\\python312\\lib\\site-packages (from matplotlib) (3.2.0)\n",
      "Requirement already satisfied: six>=1.5 in c:\\users\\acer\\appdata\\roaming\\python\\python312\\site-packages (from python-dateutil>=2.8.2->pandas) (1.16.0)\n",
      "Downloading matplotlib-3.9.2-cp312-cp312-win_amd64.whl (7.8 MB)\n",
      "   ---------------------------------------- 0.0/7.8 MB ? eta -:--:--\n",
      "   ---------------------------------------- 0.0/7.8 MB ? eta -:--:--\n",
      "   ---------------------------------------- 0.0/7.8 MB ? eta -:--:--\n",
      "   - -------------------------------------- 0.3/7.8 MB ? eta -:--:--\n",
      "   - -------------------------------------- 0.3/7.8 MB ? eta -:--:--\n",
      "   -- ------------------------------------- 0.5/7.8 MB 524.3 kB/s eta 0:00:14\n",
      "   -- ------------------------------------- 0.5/7.8 MB 524.3 kB/s eta 0:00:14\n",
      "   ---- ----------------------------------- 0.8/7.8 MB 621.2 kB/s eta 0:00:12\n",
      "   ----- ---------------------------------- 1.0/7.8 MB 671.0 kB/s eta 0:00:11\n",
      "   ----- ---------------------------------- 1.0/7.8 MB 671.0 kB/s eta 0:00:11\n",
      "   ------ --------------------------------- 1.3/7.8 MB 671.3 kB/s eta 0:00:10\n",
      "   -------- ------------------------------- 1.6/7.8 MB 735.9 kB/s eta 0:00:09\n",
      "   --------- ------------------------------ 1.8/7.8 MB 805.4 kB/s eta 0:00:08\n",
      "   ---------- ----------------------------- 2.1/7.8 MB 833.0 kB/s eta 0:00:07\n",
      "   ------------ --------------------------- 2.4/7.8 MB 849.4 kB/s eta 0:00:07\n",
      "   ------------- -------------------------- 2.6/7.8 MB 872.8 kB/s eta 0:00:06\n",
      "   ------------- -------------------------- 2.6/7.8 MB 872.8 kB/s eta 0:00:06\n",
      "   -------------- ------------------------- 2.9/7.8 MB 864.9 kB/s eta 0:00:06\n",
      "   -------------- ------------------------- 2.9/7.8 MB 864.9 kB/s eta 0:00:06\n",
      "   ---------------- ----------------------- 3.1/7.8 MB 816.6 kB/s eta 0:00:06\n",
      "   ----------------- ---------------------- 3.4/7.8 MB 799.0 kB/s eta 0:00:06\n",
      "   ----------------- ---------------------- 3.4/7.8 MB 799.0 kB/s eta 0:00:06\n",
      "   ------------------ --------------------- 3.7/7.8 MB 804.9 kB/s eta 0:00:06\n",
      "   ------------------ --------------------- 3.7/7.8 MB 804.9 kB/s eta 0:00:06\n",
      "   -------------------- ------------------- 3.9/7.8 MB 775.2 kB/s eta 0:00:06\n",
      "   -------------------- ------------------- 3.9/7.8 MB 775.2 kB/s eta 0:00:06\n",
      "   --------------------- ------------------ 4.2/7.8 MB 771.9 kB/s eta 0:00:05\n",
      "   --------------------- ------------------ 4.2/7.8 MB 771.9 kB/s eta 0:00:05\n",
      "   ---------------------- ----------------- 4.5/7.8 MB 758.3 kB/s eta 0:00:05\n",
      "   ------------------------ --------------- 4.7/7.8 MB 773.0 kB/s eta 0:00:05\n",
      "   ------------------------- -------------- 5.0/7.8 MB 782.4 kB/s eta 0:00:04\n",
      "   ------------------------- -------------- 5.0/7.8 MB 782.4 kB/s eta 0:00:04\n",
      "   -------------------------- ------------- 5.2/7.8 MB 773.8 kB/s eta 0:00:04\n",
      "   ---------------------------- ----------- 5.5/7.8 MB 789.6 kB/s eta 0:00:03\n",
      "   ----------------------------- ---------- 5.8/7.8 MB 802.6 kB/s eta 0:00:03\n",
      "   ------------------------------ --------- 6.0/7.8 MB 811.2 kB/s eta 0:00:03\n",
      "   ------------------------------ --------- 6.0/7.8 MB 811.2 kB/s eta 0:00:03\n",
      "   --------------------------------- ------ 6.6/7.8 MB 825.1 kB/s eta 0:00:02\n",
      "   ---------------------------------- ----- 6.8/7.8 MB 844.0 kB/s eta 0:00:02\n",
      "   ------------------------------------ --- 7.1/7.8 MB 852.0 kB/s eta 0:00:01\n",
      "   ------------------------------------- -- 7.3/7.8 MB 869.5 kB/s eta 0:00:01\n",
      "   -------------------------------------- - 7.6/7.8 MB 865.2 kB/s eta 0:00:01\n",
      "   -------------------------------------- - 7.6/7.8 MB 865.2 kB/s eta 0:00:01\n",
      "   ---------------------------------------- 7.8/7.8 MB 862.2 kB/s eta 0:00:00\n",
      "Downloading seaborn-0.13.2-py3-none-any.whl (294 kB)\n",
      "Using cached contourpy-1.3.1-cp312-cp312-win_amd64.whl (220 kB)\n",
      "Downloading cycler-0.12.1-py3-none-any.whl (8.3 kB)\n",
      "Downloading fonttools-4.55.0-cp312-cp312-win_amd64.whl (2.2 MB)\n",
      "   ---------------------------------------- 0.0/2.2 MB ? eta -:--:--\n",
      "   ---------------------------------------- 0.0/2.2 MB ? eta -:--:--\n",
      "   ---- ----------------------------------- 0.3/2.2 MB ? eta -:--:--\n",
      "   -------------- ------------------------- 0.8/2.2 MB 1.9 MB/s eta 0:00:01\n",
      "   ------------------- -------------------- 1.0/2.2 MB 1.7 MB/s eta 0:00:01\n",
      "   ----------------------- ---------------- 1.3/2.2 MB 1.4 MB/s eta 0:00:01\n",
      "   ---------------------------- ----------- 1.6/2.2 MB 1.4 MB/s eta 0:00:01\n",
      "   ---------------------------- ----------- 1.6/2.2 MB 1.4 MB/s eta 0:00:01\n",
      "   -------------------------------------- - 2.1/2.2 MB 1.3 MB/s eta 0:00:01\n",
      "   ---------------------------------------- 2.2/2.2 MB 1.2 MB/s eta 0:00:00\n",
      "Downloading kiwisolver-1.4.7-cp312-cp312-win_amd64.whl (55 kB)\n",
      "Installing collected packages: kiwisolver, fonttools, cycler, contourpy, matplotlib, seaborn\n",
      "Successfully installed contourpy-1.3.1 cycler-0.12.1 fonttools-4.55.0 kiwisolver-1.4.7 matplotlib-3.9.2 seaborn-0.13.2\n"
     ]
    }
   ],
   "source": [
    "!pip install pandas matplotlib seaborn"
   ]
  },
  {
   "cell_type": "code",
   "execution_count": 14,
   "metadata": {},
   "outputs": [
    {
     "name": "stdout",
     "output_type": "stream",
     "text": [
      "Collecting pyspark\n",
      "  Using cached pyspark-3.5.3.tar.gz (317.3 MB)\n",
      "  Installing build dependencies: started\n",
      "  Installing build dependencies: finished with status 'done'\n",
      "  Getting requirements to build wheel: started\n",
      "  Getting requirements to build wheel: finished with status 'done'\n",
      "  Preparing metadata (pyproject.toml): started\n",
      "  Preparing metadata (pyproject.toml): finished with status 'done'\n",
      "Collecting py4j==0.10.9.7 (from pyspark)\n",
      "  Using cached py4j-0.10.9.7-py2.py3-none-any.whl.metadata (1.5 kB)\n",
      "Using cached py4j-0.10.9.7-py2.py3-none-any.whl (200 kB)\n",
      "Building wheels for collected packages: pyspark\n",
      "  Building wheel for pyspark (pyproject.toml): started\n",
      "  Building wheel for pyspark (pyproject.toml): still running...\n",
      "  Building wheel for pyspark (pyproject.toml): still running...\n",
      "  Building wheel for pyspark (pyproject.toml): still running...\n",
      "  Building wheel for pyspark (pyproject.toml): still running...\n",
      "  Building wheel for pyspark (pyproject.toml): finished with status 'done'\n",
      "  Created wheel for pyspark: filename=pyspark-3.5.3-py2.py3-none-any.whl size=317840672 sha256=fe1746eb982c2e9398ca7e432c60e8f3e24cbfb2159e50e575aa2c00a03a46df\n",
      "  Stored in directory: c:\\users\\acer\\appdata\\local\\pip\\cache\\wheels\\07\\a0\\a3\\d24c94bf043ab5c7e38c30491199a2a11fef8d2584e6df7fb7\n",
      "Successfully built pyspark\n",
      "Installing collected packages: py4j, pyspark\n",
      "Successfully installed py4j-0.10.9.7 pyspark-3.5.3\n"
     ]
    }
   ],
   "source": [
    "!pip install pyspark"
   ]
  },
  {
   "cell_type": "code",
   "execution_count": 5,
   "metadata": {},
   "outputs": [
    {
     "name": "stdout",
     "output_type": "stream",
     "text": [
      "Initial Schema\n",
      "Column Name: country, Data Type: StringType()\n",
      "Column Name: date, Data Type: DateType()\n",
      "Column Name: total_cases, Data Type: IntegerType()\n",
      "Column Name: new_cases, Data Type: IntegerType()\n",
      "Column Name: new_cases_smoothed, Data Type: DoubleType()\n",
      "Column Name: total_cases_per_million, Data Type: DoubleType()\n",
      "Column Name: new_cases_per_million, Data Type: DoubleType()\n",
      "Column Name: new_cases_smoothed_per_million, Data Type: DoubleType()\n",
      "Column Name: total_deaths, Data Type: IntegerType()\n",
      "Column Name: new_deaths, Data Type: IntegerType()\n",
      "Column Name: new_deaths_smoothed, Data Type: DoubleType()\n",
      "Column Name: total_deaths_per_million, Data Type: DoubleType()\n",
      "Column Name: new_deaths_per_million, Data Type: DoubleType()\n",
      "Column Name: new_deaths_smoothed_per_million, Data Type: DoubleType()\n",
      "Column Name: excess_mortality, Data Type: DoubleType()\n",
      "Column Name: excess_mortality_cumulative, Data Type: DoubleType()\n",
      "Column Name: excess_mortality_cumulative_absolute, Data Type: DoubleType()\n",
      "Column Name: excess_mortality_cumulative_per_million, Data Type: DoubleType()\n",
      "Column Name: hosp_patients, Data Type: IntegerType()\n",
      "Column Name: hosp_patients_per_million, Data Type: DoubleType()\n",
      "Column Name: weekly_hosp_admissions, Data Type: IntegerType()\n",
      "Column Name: weekly_hosp_admissions_per_million, Data Type: DoubleType()\n",
      "Column Name: icu_patients, Data Type: IntegerType()\n",
      "Column Name: icu_patients_per_million, Data Type: DoubleType()\n",
      "Column Name: weekly_icu_admissions, Data Type: IntegerType()\n",
      "Column Name: weekly_icu_admissions_per_million, Data Type: DoubleType()\n",
      "Column Name: stringency_index, Data Type: DoubleType()\n",
      "Column Name: reproduction_rate, Data Type: DoubleType()\n",
      "Column Name: total_tests, Data Type: LongType()\n",
      "Column Name: new_tests, Data Type: IntegerType()\n",
      "Column Name: total_tests_per_thousand, Data Type: DoubleType()\n",
      "Column Name: new_tests_per_thousand, Data Type: DoubleType()\n",
      "Column Name: new_tests_smoothed, Data Type: IntegerType()\n",
      "Column Name: new_tests_smoothed_per_thousand, Data Type: DoubleType()\n",
      "Column Name: positive_rate, Data Type: DoubleType()\n",
      "Column Name: tests_per_case, Data Type: DoubleType()\n",
      "Column Name: total_vaccinations, Data Type: DoubleType()\n",
      "Column Name: people_vaccinated, Data Type: DoubleType()\n",
      "Column Name: people_fully_vaccinated, Data Type: DoubleType()\n",
      "Column Name: total_boosters, Data Type: LongType()\n",
      "Column Name: new_vaccinations, Data Type: DoubleType()\n",
      "Column Name: new_vaccinations_smoothed, Data Type: DoubleType()\n",
      "Column Name: total_vaccinations_per_hundred, Data Type: DoubleType()\n",
      "Column Name: people_vaccinated_per_hundred, Data Type: DoubleType()\n",
      "Column Name: people_fully_vaccinated_per_hundred, Data Type: DoubleType()\n",
      "Column Name: total_boosters_per_hundred, Data Type: DoubleType()\n",
      "Column Name: new_vaccinations_smoothed_per_million, Data Type: DoubleType()\n",
      "Column Name: new_people_vaccinated_smoothed, Data Type: DoubleType()\n",
      "Column Name: new_people_vaccinated_smoothed_per_hundred, Data Type: DoubleType()\n",
      "Column Name: code, Data Type: StringType()\n",
      "Column Name: continent, Data Type: StringType()\n",
      "Column Name: population, Data Type: LongType()\n",
      "Column Name: population_density, Data Type: DoubleType()\n",
      "Column Name: median_age, Data Type: DoubleType()\n",
      "Column Name: life_expectancy, Data Type: DoubleType()\n",
      "Column Name: gdp_per_capita, Data Type: DoubleType()\n",
      "Column Name: extreme_poverty, Data Type: DoubleType()\n",
      "Column Name: diabetes_prevalence, Data Type: DoubleType()\n",
      "Column Name: handwashing_facilities, Data Type: DoubleType()\n",
      "Column Name: hospital_beds_per_thousand, Data Type: DoubleType()\n",
      "Column Name: human_development_index, Data Type: DoubleType()\n"
     ]
    }
   ],
   "source": [
    "\n",
    "from pyspark.sql import SparkSession\n",
    "from pyspark.sql.functions import col, to_date, lit\n",
    "spark = SparkSession.builder.appName(\"Covid-19 Data Preprocessing\").getOrCreate()\n",
    "df = spark.read.csv('D:/Pyspark_hackathon/dataset.csv',header = True, inferSchema=True)\n",
    "print(\"Initial Schema\")\n",
    "# df.printSchema()\n",
    "# df.show(5)\n",
    "# Iterate over schema and print column names and types\n",
    "for field in df.schema.fields:\n",
    "    print(f\"Column Name: {field.name}, Data Type: {field.dataType}\")\n"
   ]
  },
  {
   "cell_type": "code",
   "execution_count": 13,
   "metadata": {},
   "outputs": [
    {
     "name": "stdout",
     "output_type": "stream",
     "text": [
      "+-------+----+-----------+---------+------------------+-----------------------+---------------------+------------------------------+------------+----------+-------------------+------------------------+----------------------+-------------------------------+----------------+---------------------------+------------------------------------+---------------------------------------+-------------+-------------------------+----------------------+----------------------------------+------------+------------------------+---------------------+---------------------------------+----------------+-----------------+-----------+---------+------------------------+----------------------+------------------+-------------------------------+-------------+--------------+------------------+-----------------+-----------------------+--------------+----------------+-------------------------+------------------------------+-----------------------------+-----------------------------------+--------------------------+-------------------------------------+------------------------------+------------------------------------------+-----+---------+----------+------------------+----------+---------------+--------------+---------------+-------------------+----------------------+--------------------------+-----------------------+\n",
      "|country|date|total_cases|new_cases|new_cases_smoothed|total_cases_per_million|new_cases_per_million|new_cases_smoothed_per_million|total_deaths|new_deaths|new_deaths_smoothed|total_deaths_per_million|new_deaths_per_million|new_deaths_smoothed_per_million|excess_mortality|excess_mortality_cumulative|excess_mortality_cumulative_absolute|excess_mortality_cumulative_per_million|hosp_patients|hosp_patients_per_million|weekly_hosp_admissions|weekly_hosp_admissions_per_million|icu_patients|icu_patients_per_million|weekly_icu_admissions|weekly_icu_admissions_per_million|stringency_index|reproduction_rate|total_tests|new_tests|total_tests_per_thousand|new_tests_per_thousand|new_tests_smoothed|new_tests_smoothed_per_thousand|positive_rate|tests_per_case|total_vaccinations|people_vaccinated|people_fully_vaccinated|total_boosters|new_vaccinations|new_vaccinations_smoothed|total_vaccinations_per_hundred|people_vaccinated_per_hundred|people_fully_vaccinated_per_hundred|total_boosters_per_hundred|new_vaccinations_smoothed_per_million|new_people_vaccinated_smoothed|new_people_vaccinated_smoothed_per_hundred| code|continent|population|population_density|median_age|life_expectancy|gdp_per_capita|extreme_poverty|diabetes_prevalence|handwashing_facilities|hospital_beds_per_thousand|human_development_index|\n",
      "+-------+----+-----------+---------+------------------+-----------------------+---------------------+------------------------------+------------+----------+-------------------+------------------------+----------------------+-------------------------------+----------------+---------------------------+------------------------------------+---------------------------------------+-------------+-------------------------+----------------------+----------------------------------+------------+------------------------+---------------------+---------------------------------+----------------+-----------------+-----------+---------+------------------------+----------------------+------------------+-------------------------------+-------------+--------------+------------------+-----------------+-----------------------+--------------+----------------+-------------------------+------------------------------+-----------------------------+-----------------------------------+--------------------------+-------------------------------------+------------------------------+------------------------------------------+-----+---------+----------+------------------+----------+---------------+--------------+---------------+-------------------+----------------------+--------------------------+-----------------------+\n",
      "|      0|   0|      12136|    14146|             15372|                  12136|                14146|                         15372|       12136|     13606|              14840|                   12136|                 13606|                          14840|          439829|                     439829|                              439829|                                 439863|       412730|                   412730|                428889|                            428889|      414270|                  414270|               442393|                           442393|          250626|           267703|     373999|   377983|                  373999|                377983|            349421|                         349421|       351068|        352051|            370164|           374375|                 376375|        394602|          384510|                   250546|                        370164|                       374375|                             376375|                    394602|                               250546|                        250546|                                    250546|20620|    34800|     15385|             22451|     20680|          20680|         99844|         168557|              71548|                248134|                    180548|                  90466|\n",
      "+-------+----+-----------+---------+------------------+-----------------------+---------------------+------------------------------+------------+----------+-------------------+------------------------+----------------------+-------------------------------+----------------+---------------------------+------------------------------------+---------------------------------------+-------------+-------------------------+----------------------+----------------------------------+------------+------------------------+---------------------+---------------------------------+----------------+-----------------+-----------+---------+------------------------+----------------------+------------------+-------------------------------+-------------+--------------+------------------+-----------------+-----------------------+--------------+----------------+-------------------------+------------------------------+-----------------------------+-----------------------------------+--------------------------+-------------------------------------+------------------------------+------------------------------------------+-----+---------+----------+------------------+----------+---------------+--------------+---------------+-------------------+----------------------+--------------------------+-----------------------+\n",
      "\n"
     ]
    }
   ],
   "source": [
    "from pyspark.sql import functions as F\n",
    "null_counts  = df.select([F.sum(F.col(c).isNull().cast('int')).alias(c) for c in df.columns])\n",
    "null_counts.show()"
   ]
  },
  {
   "cell_type": "code",
   "execution_count": null,
   "metadata": {},
   "outputs": [],
   "source": [
    "data_without_null= null_counts.dropna()"
   ]
  },
  {
   "cell_type": "code",
   "execution_count": 12,
   "metadata": {},
   "outputs": [
    {
     "data": {
      "text/plain": [
       "DataFrame[country: string, date: date, total_cases: int, new_cases: int, new_cases_smoothed: double, total_cases_per_million: double, new_cases_per_million: double, new_cases_smoothed_per_million: double, total_deaths: int, new_deaths: int, new_deaths_smoothed: double, total_deaths_per_million: double, new_deaths_per_million: double, new_deaths_smoothed_per_million: double, excess_mortality: double, excess_mortality_cumulative: double, excess_mortality_cumulative_absolute: double, excess_mortality_cumulative_per_million: double, hosp_patients: int, hosp_patients_per_million: double, weekly_hosp_admissions: int, weekly_hosp_admissions_per_million: double, icu_patients: int, icu_patients_per_million: double, weekly_icu_admissions: int, weekly_icu_admissions_per_million: double, stringency_index: double, reproduction_rate: double, total_tests: bigint, new_tests: int, total_tests_per_thousand: double, new_tests_per_thousand: double, new_tests_smoothed: int, new_tests_smoothed_per_thousand: double, positive_rate: double, tests_per_case: double, total_vaccinations: double, people_vaccinated: double, people_fully_vaccinated: double, total_boosters: bigint, new_vaccinations: double, new_vaccinations_smoothed: double, total_vaccinations_per_hundred: double, people_vaccinated_per_hundred: double, people_fully_vaccinated_per_hundred: double, total_boosters_per_hundred: double, new_vaccinations_smoothed_per_million: double, new_people_vaccinated_smoothed: double, new_people_vaccinated_smoothed_per_hundred: double, code: string, continent: string, population: bigint, population_density: double, median_age: double, life_expectancy: double, gdp_per_capita: double, extreme_poverty: double, diabetes_prevalence: double, handwashing_facilities: double, hospital_beds_per_thousand: double, human_development_index: double]"
      ]
     },
     "execution_count": 12,
     "metadata": {},
     "output_type": "execute_result"
    }
   ],
   "source": [
    "data_without_null"
   ]
  },
  {
   "cell_type": "code",
   "execution_count": null,
   "metadata": {},
   "outputs": [],
   "source": []
  }
 ],
 "metadata": {
  "kernelspec": {
   "display_name": "Python 3",
   "language": "python",
   "name": "python3"
  },
  "language_info": {
   "codemirror_mode": {
    "name": "ipython",
    "version": 3
   },
   "file_extension": ".py",
   "mimetype": "text/x-python",
   "name": "python",
   "nbconvert_exporter": "python",
   "pygments_lexer": "ipython3",
   "version": "3.12.7"
  }
 },
 "nbformat": 4,
 "nbformat_minor": 2
}
